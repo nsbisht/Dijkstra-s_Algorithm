{
 "cells": [
  {
   "cell_type": "code",
   "execution_count": 1,
   "metadata": {},
   "outputs": [],
   "source": [
    "import networkx as nx\n",
    "import matplotlib.pyplot as plt"
   ]
  },
  {
   "cell_type": "code",
   "execution_count": 2,
   "metadata": {},
   "outputs": [],
   "source": [
    "from __future__ import print_function\n",
    "from ipywidgets import interact, interactive, fixed, interact_manual\n",
    "import ipywidgets as widgets\n",
    "from IPython.display import clear_output"
   ]
  },
  {
   "cell_type": "code",
   "execution_count": 3,
   "metadata": {},
   "outputs": [],
   "source": [
    "DG = nx.DiGraph()"
   ]
  },
  {
   "cell_type": "code",
   "execution_count": 4,
   "metadata": {},
   "outputs": [],
   "source": [
    "DG.add_edge(\"a\", \"b\", weight=4)\n",
    "DG.add_edge(\"a\", \"f\", weight=5)"
   ]
  },
  {
   "cell_type": "code",
   "execution_count": 5,
   "metadata": {},
   "outputs": [],
   "source": [
    "DG.add_edge(\"b\", \"c\", weight=2)\n",
    "DG.add_edge(\"b\", \"g\", weight=1)"
   ]
  },
  {
   "cell_type": "code",
   "execution_count": 6,
   "metadata": {},
   "outputs": [],
   "source": [
    "DG.add_edge(\"c\", \"d\", weight=10)\n",
    "DG.add_edge(\"c\", \"g\", weight=3)"
   ]
  },
  {
   "cell_type": "code",
   "execution_count": 7,
   "metadata": {},
   "outputs": [],
   "source": [
    "DG.add_edge(\"d\", \"e\", weight=6)"
   ]
  },
  {
   "cell_type": "code",
   "execution_count": 8,
   "metadata": {},
   "outputs": [],
   "source": [
    "DG.add_edge(\"e\", \"f\", weight=1)"
   ]
  },
  {
   "cell_type": "code",
   "execution_count": 9,
   "metadata": {},
   "outputs": [],
   "source": [
    "DG.add_edge(\"g\", \"a\", weight=2)\n",
    "DG.add_edge(\"g\", \"d\", weight=2)\n",
    "DG.add_edge(\"g\", \"e\", weight=4)\n",
    "DG.add_edge(\"g\", \"f\", weight=8)"
   ]
  },
  {
   "cell_type": "code",
   "execution_count": 10,
   "metadata": {},
   "outputs": [],
   "source": [
    "def draw_graph(DG):\n",
    "    plt.figure(figsize=(20, 8))\n",
    "    shell_layout = nx.shell_layout(DG)\n",
    "    nx.draw_networkx_nodes(DG, shell_layout, node_size=1600, alpha=0.3, node_color='blue')\n",
    "    nx.draw_networkx_edges(DG,shell_layout, width=1, alpha=0.3, edge_color='blue')\n",
    "    nx.draw_networkx_labels(DG, shell_layout, font_size=18, font_family='sans-serif')\n",
    "    nx.draw_networkx_edge_labels(DG,pos=shell_layout,edge_labels=nx.get_edge_attributes(DG,'weight'), label_pos=0.3, font_size=18)\n",
    "    plt.show()"
   ]
  },
  {
   "cell_type": "markdown",
   "metadata": {},
   "source": [
    "### Dijkstra's Shortest Path Algorithm"
   ]
  },
  {
   "cell_type": "code",
   "execution_count": 11,
   "metadata": {},
   "outputs": [
    {
     "data": {
      "application/vnd.jupyter.widget-view+json": {
       "model_id": "92bc3d6e1ac6424a9a8294299365b1b3",
       "version_major": 2,
       "version_minor": 0
      },
      "text/plain": [
       "Dropdown(description='Node 1:', options=('a', 'b', 'c', 'd', 'e', 'f', 'g'), value='a')"
      ]
     },
     "metadata": {},
     "output_type": "display_data"
    }
   ],
   "source": [
    "node_one = widgets.Dropdown(\n",
    "    options=[(\"a\"), (\"b\"), (\"c\"), (\"d\"), (\"e\"), (\"f\"), (\"g\")],\n",
    "    description='Node 1:',\n",
    "    disabled=False,\n",
    ")\n",
    "display(node_one)"
   ]
  },
  {
   "cell_type": "code",
   "execution_count": 12,
   "metadata": {},
   "outputs": [
    {
     "data": {
      "application/vnd.jupyter.widget-view+json": {
       "model_id": "d4137b15ecb54c9282b15c74facf48e7",
       "version_major": 2,
       "version_minor": 0
      },
      "text/plain": [
       "Dropdown(description='Node 2:', options=('a', 'b', 'c', 'd', 'e', 'f', 'g'), value='a')"
      ]
     },
     "metadata": {},
     "output_type": "display_data"
    }
   ],
   "source": [
    "node_two = widgets.Dropdown(\n",
    "    options=[(\"a\"), (\"b\"), (\"c\"), (\"d\"), (\"e\"), (\"f\"), (\"g\")],\n",
    "    description='Node 2:',\n",
    "    disabled=False,\n",
    ")\n",
    "display(node_two)"
   ]
  },
  {
   "cell_type": "code",
   "execution_count": 13,
   "metadata": {},
   "outputs": [
    {
     "data": {
      "application/vnd.jupyter.widget-view+json": {
       "model_id": "dc1148329f1e414ebda9600490c30d5f",
       "version_major": 2,
       "version_minor": 0
      },
      "text/plain": [
       "Text(value='', description='Weight')"
      ]
     },
     "metadata": {},
     "output_type": "display_data"
    }
   ],
   "source": [
    "edge_weight = widgets.Text(description=\"Weight\")\n",
    "display(edge_weight)"
   ]
  },
  {
   "cell_type": "code",
   "execution_count": 14,
   "metadata": {},
   "outputs": [],
   "source": [
    "message = widgets.Output()\n",
    "\n",
    "button_add_edge = widgets.Button(description=\"Add edge\")\n",
    "\n",
    "def on_button_add_edge_clicked(b):\n",
    "    if node_one.value == node_two.value:\n",
    "        with message:\n",
    "            clear_output(True)\n",
    "            print(f\"Self-loops are not allowed.\")\n",
    "    elif DG.has_edge(node_one.value, node_two.value):\n",
    "        with message:\n",
    "            clear_output(True)\n",
    "            print(f\"An edge from node {node_one.value} to node {node_two.value} already exists.\")\n",
    "            print(f\"Parallel edges are not allowed.\")\n",
    "    else:\n",
    "        DG.add_edge(node_one.value, node_two.value, weight=int(edge_weight.value))\n",
    "        with output:\n",
    "            clear_output(True)\n",
    "            draw_graph(DG)\n",
    "        with message:\n",
    "            clear_output(True)\n",
    "            print(f\"A new edge from node {node_one.value} to node {node_two.value} has been added.\")\n",
    "        \n",
    "button_add_edge.on_click(on_button_add_edge_clicked)"
   ]
  },
  {
   "cell_type": "code",
   "execution_count": 15,
   "metadata": {},
   "outputs": [],
   "source": [
    "button_remove_edge = widgets.Button(description=\"Remove edge\")\n",
    "\n",
    "def on_button_remove_edge_clicked(b):\n",
    "    if node_one.value == node_two.value:\n",
    "        with message:\n",
    "            clear_output(True)\n",
    "            print(f\"No edge that connects node {node_one.value} to itself exists.\")\n",
    "    else:\n",
    "        try:\n",
    "            DG.remove_edge(node_one.value, node_two.value)\n",
    "            with output:\n",
    "                clear_output(True)\n",
    "                draw_graph(DG)\n",
    "            with message:\n",
    "                clear_output(True)\n",
    "                print(f\"The edge from node {node_one.value} to node {node_two.value} has been removed.\")\n",
    "        except nx.NetworkXError:\n",
    "            with message:\n",
    "                clear_output(True)\n",
    "                print(f\"No edge from node {node_one.value} to node {node_two.value} exists.\")\n",
    "    \n",
    "button_remove_edge.on_click(on_button_remove_edge_clicked)"
   ]
  },
  {
   "cell_type": "code",
   "execution_count": 16,
   "metadata": {},
   "outputs": [
    {
     "data": {
      "application/vnd.jupyter.widget-view+json": {
       "model_id": "bded0dda16664a098a8766380a0e67fe",
       "version_major": 2,
       "version_minor": 0
      },
      "text/plain": [
       "Button(description='Add edge', style=ButtonStyle())"
      ]
     },
     "metadata": {},
     "output_type": "display_data"
    },
    {
     "data": {
      "application/vnd.jupyter.widget-view+json": {
       "model_id": "1378a41d2c1d4db2b7844b6de78cedd7",
       "version_major": 2,
       "version_minor": 0
      },
      "text/plain": [
       "Button(description='Remove edge', style=ButtonStyle())"
      ]
     },
     "metadata": {},
     "output_type": "display_data"
    },
    {
     "data": {
      "application/vnd.jupyter.widget-view+json": {
       "model_id": "2fee661c5de74fde9ca781763d9f36bf",
       "version_major": 2,
       "version_minor": 0
      },
      "text/plain": [
       "Output()"
      ]
     },
     "metadata": {},
     "output_type": "display_data"
    }
   ],
   "source": [
    "display(button_add_edge)\n",
    "display(button_remove_edge)\n",
    "display(message)"
   ]
  },
  {
   "cell_type": "code",
   "execution_count": 17,
   "metadata": {},
   "outputs": [
    {
     "data": {
      "application/vnd.jupyter.widget-view+json": {
       "model_id": "329b5d14173f4cbfa4019e4bef3db944",
       "version_major": 2,
       "version_minor": 0
      },
      "text/plain": [
       "Output()"
      ]
     },
     "metadata": {},
     "output_type": "display_data"
    }
   ],
   "source": [
    "output = widgets.Output()\n",
    "display(output)"
   ]
  },
  {
   "cell_type": "code",
   "execution_count": 18,
   "metadata": {},
   "outputs": [],
   "source": [
    "with output:\n",
    "    clear_output(True)\n",
    "    draw_graph(DG)"
   ]
  },
  {
   "cell_type": "markdown",
   "metadata": {},
   "source": [
    "****"
   ]
  },
  {
   "cell_type": "markdown",
   "metadata": {},
   "source": [
    "**Find the shortest path and its length:**"
   ]
  },
  {
   "cell_type": "code",
   "execution_count": 19,
   "metadata": {},
   "outputs": [],
   "source": [
    "def find_shortest_path_and_length(source, target):\n",
    "    print()\n",
    "    if not source == target:\n",
    "        try:\n",
    "            print(f\"Shortest Path = {' -> '.join(nx.shortest_path(DG, source, target, method='dijkstra', weight='weight'))}\")\n",
    "            print(f\"Shortest Path Length = {nx.shortest_path_length(DG, source, target, method='dijkstra', weight='weight')}\")\n",
    "        except nx.NetworkXNoPath as nxnp:\n",
    "            print(nxnp)"
   ]
  },
  {
   "cell_type": "code",
   "execution_count": 20,
   "metadata": {},
   "outputs": [],
   "source": [
    "w_one = interactive(find_shortest_path_and_length, \n",
    "         source=[('a','a'), ('b','b'), ('c','c'), ('d','d'), ('e','e'), ('f','f'), ('g','g')], \n",
    "         target=[('a','a'), ('b','b'), ('c','c'), ('d','d'), ('e','e'), ('f','f'), ('g','g')])"
   ]
  },
  {
   "cell_type": "code",
   "execution_count": 21,
   "metadata": {},
   "outputs": [
    {
     "data": {
      "application/vnd.jupyter.widget-view+json": {
       "model_id": "395830fe91e44a77a23fdd649ddb9e6d",
       "version_major": 2,
       "version_minor": 0
      },
      "text/plain": [
       "interactive(children=(Dropdown(description='source', options=(('a', 'a'), ('b', 'b'), ('c', 'c'), ('d', 'd'), …"
      ]
     },
     "metadata": {},
     "output_type": "display_data"
    }
   ],
   "source": [
    "display(w_one)"
   ]
  },
  {
   "cell_type": "code",
   "execution_count": null,
   "metadata": {},
   "outputs": [],
   "source": []
  },
  {
   "cell_type": "code",
   "execution_count": null,
   "metadata": {},
   "outputs": [],
   "source": []
  },
  {
   "cell_type": "code",
   "execution_count": null,
   "metadata": {},
   "outputs": [],
   "source": []
  }
 ],
 "metadata": {
  "kernelspec": {
   "display_name": "Python 3 (ipykernel)",
   "language": "python",
   "name": "python3"
  },
  "language_info": {
   "codemirror_mode": {
    "name": "ipython",
    "version": 3
   },
   "file_extension": ".py",
   "mimetype": "text/x-python",
   "name": "python",
   "nbconvert_exporter": "python",
   "pygments_lexer": "ipython3",
   "version": "3.8.11"
  }
 },
 "nbformat": 4,
 "nbformat_minor": 4
}
